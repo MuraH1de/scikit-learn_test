{
 "cells": [
  {
   "cell_type": "code",
   "execution_count": 2,
   "metadata": {},
   "outputs": [
    {
     "name": "stdout",
     "output_type": "stream",
     "text": [
      "[15.4757088  27.85786595 39.71821366 17.94591734 30.19441873 37.51057831\n",
      " 25.20492485 11.29301795 13.93325033 32.10798674 28.51346127 19.10242965\n",
      " 14.16909335 30.59883198 16.91765089 21.57521646 20.56956106 38.0388848\n",
      " 18.28489886 15.44455502 13.942728   22.89202676 33.08289616 38.85747118\n",
      " 29.91747968 22.34030137 17.88075723 20.6598468  23.37690089 20.51319684\n",
      " 25.78620928 33.83339852 15.33132641 21.79161378 24.14376798 35.2106862\n",
      " 29.20302521 18.566505   13.9622867  38.63492008 31.18122326 19.10959362\n",
      " 19.1273964  39.74779582  8.86534866 27.28051165 19.04476095 25.44873252\n",
      " 15.50076478 26.17581245 33.69571146 24.40124874 19.39414746 12.55330545\n",
      " 24.50462883 18.21889479 10.63052092  2.28680811 31.72266364 13.46355579\n",
      " 20.09462113 22.38725561 19.98251601 17.86587813 24.34154548 26.93269765\n",
      " 25.82034717 22.2255162  24.67832008 30.3663481  20.3191293  28.49908288\n",
      " 15.23867856 24.73337515 20.10878704 18.07200705 18.41320553 16.91768359\n",
      " 28.79668288 -0.72764932 32.77235423 12.77182194 25.01611175 20.22882563\n",
      " 14.1490244  22.51784692 18.35783384 24.55026023 19.53341548 32.04610432\n",
      " 16.09965501 34.70398223 23.28578903 25.53343033 30.95210281 28.95220518\n",
      " 19.02010607 31.35828173 26.99246425 36.53001853 16.6427046  16.771446\n",
      " 42.70557651 17.78401758 21.81493146 28.54938925 14.6574944  17.8560892\n",
      " 14.87432738 20.8621114  24.87422157 20.55017983 14.27906223 20.78463901\n",
      " 20.00188302 27.61959443 29.92816998 13.25454015 22.09977257 19.44854557\n",
      " 17.38140304 37.07793354 20.22729663 10.39330738 12.09698538 22.76369432\n",
      " 24.18804203 20.73747423 13.05998852 23.0364222  23.32008533 16.89707977\n",
      "  8.76419188  5.64213312 14.960935   18.24093462 17.8822589  18.00948788\n",
      " 17.42921915 19.31137073 24.87453105 21.59756669 15.34556404 22.22071512\n",
      " 32.12077573 15.89157658 23.35882503 17.69939011 27.061577   18.85920733\n",
      " 16.92716636 22.47051248]\n"
     ]
    }
   ],
   "source": [
    "from sklearn.linear_model import LinearRegression\n",
    "from sklearn.datasets import load_boston\n",
    "from sklearn.model_selection import train_test_split\n",
    "\n",
    "boston = load_boston()\n",
    "X, y = boston.data, boston.target\n",
    "X_train, X_test, y_train, y_test = train_test_split(X, y, test_size=0.3, random_state=123)\n",
    "lr = LinearRegression()\n",
    "lr.fit(X_train, y_train )\n",
    "y_pred = lr.predict(X_test)\n",
    "\n",
    "print(y_pred)"
   ]
  },
  {
   "cell_type": "code",
   "execution_count": 4,
   "metadata": {},
   "outputs": [],
   "source": [
    "from sklearn.datasets import load_iris\n",
    "from sklearn.model_selection import GridSearchCV\n",
    "from sklearn.tree import DecisionTreeClassifier\n",
    "from sklearn.model_selection import train_test_split\n",
    "\n",
    "iris = load_iris()\n",
    "X, y = iris.data, iris.target\n",
    "X_train, X_test, y_train, y_test = train_test_split(X, y, test_size=0.3, random_state=123)\n",
    "clf = DecisionTreeClassifier()\n",
    "param_grid = {'max_depth': [3, 4, 5]}\n",
    "cv = GridSearchCV(clf, param_grid=param_grid, cv=10)\n",
    "cv.fit(X_train, y_train)\n",
    "y_pred = cv.predict(X_test)"
   ]
  },
  {
   "cell_type": "code",
   "execution_count": null,
   "metadata": {},
   "outputs": [],
   "source": []
  }
 ],
 "metadata": {
  "kernelspec": {
   "display_name": "Python 3",
   "language": "python",
   "name": "python3"
  },
  "language_info": {
   "codemirror_mode": {
    "name": "ipython",
    "version": 3
   },
   "file_extension": ".py",
   "mimetype": "text/x-python",
   "name": "python",
   "nbconvert_exporter": "python",
   "pygments_lexer": "ipython3",
   "version": "3.7.6"
  }
 },
 "nbformat": 4,
 "nbformat_minor": 4
}
